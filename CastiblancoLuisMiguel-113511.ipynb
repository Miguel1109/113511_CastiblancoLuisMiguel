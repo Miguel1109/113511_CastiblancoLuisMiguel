{
 "cells": [
  {
   "cell_type": "code",
   "execution_count": 1,
   "metadata": {},
   "outputs": [
    {
     "name": "stdout",
     "output_type": "stream",
     "text": [
      "Ingrese un número: -3\n",
      "3\n"
     ]
    }
   ],
   "source": [
    "# Taller 1, ejercicio 1\n",
    "def mi_abs(n):\n",
    "    '''Esta funcion devuelve el |n|'''\n",
    "    if n<0: #Cambia el signo si n<0\n",
    "        n=-n\n",
    "    return n\n",
    "\n",
    "n=int(input('Ingrese un número: '))\n",
    "print(mi_abs(n))"
   ]
  },
  {
   "cell_type": "code",
   "execution_count": 3,
   "metadata": {},
   "outputs": [
    {
     "name": "stdout",
     "output_type": "stream",
     "text": [
      "Ingrese el primer número: 9\n",
      "Ingrese el segundo número: 7\n",
      "El valor absoluto de 9 - 7 es 2\n",
      "2 es un NÚMERO PRIMO\n"
     ]
    }
   ],
   "source": [
    "#%% Taller 1, ejercicio 2\n",
    "import numpy as np\n",
    "#Intercción con el usuario\n",
    "n1=int(input('Ingrese el primer número: '))\n",
    "n2=int(input('Ingrese el segundo número: '))\n",
    "dif=n1-n2\n",
    "N=mi_abs(dif) #Obtención de N=|n1-n2|\n",
    "res=np.zeros(N)\n",
    "N_ceros=0\n",
    "for i in range (N): #Obtención de divisores de N\n",
    "    j=N-i\n",
    "    res[i]=N%j\n",
    "\n",
    "#Determinacion de condición \"es primo\"\n",
    "\n",
    "for i in range (N): \n",
    "    if res[i]==0:\n",
    "        N_ceros=N_ceros+1\n",
    "if N_ceros==2:\n",
    "    print('El valor absoluto de',n1,'-',n2,'es',N)\n",
    "    print(N,'es un NÚMERO PRIMO')\n",
    "else:\n",
    "    print('El valor absoluto de',n1,'-',n2,'es',N)\n",
    "    print(N,'NO ES un NÚMERO PRIMO')"
   ]
  },
  {
   "cell_type": "code",
   "execution_count": 6,
   "metadata": {},
   "outputs": [
    {
     "name": "stdout",
     "output_type": "stream",
     "text": [
      "Multiplos de 3:  [ 3.  6.  9. 12. 15. 18. 21. 24. 27. 30. 33. 36. 39. 42. 45.]\n",
      "Multiplos de 4:  [48, 52, 56, 60, 64, 68, 72, 76, 80, 84, 88, 92, 96, 100]\n"
     ]
    }
   ],
   "source": [
    "#%% Taller 1, ejercicio 3\n",
    "import numpy as np\n",
    "N=100\n",
    "M_3=np.zeros(15)\n",
    "M_4=[]\n",
    "i_3=0\n",
    "i_4=0\n",
    "#Otención múltiplos de 3\n",
    "for i in range(N+1):\n",
    "    if i%3==0 and i_3<=14 and i>0:\n",
    "            #print(i, ' es Multiplo de 3')\n",
    "            M_3[i_3]=i\n",
    "            i_3=i_3+1\n",
    "    if i%4==0 and i_3 >14: #Obtención m´ltiplos de 4\n",
    "            #print(i,' es Multiplo de 4')\n",
    "            M_4.extend([i])\n",
    "            i_4=i_4+1\n",
    "\n",
    "print('Multiplos de 3: ', M_3)\n",
    "print('Multiplos de 4: ',M_4)"
   ]
  },
  {
   "cell_type": "code",
   "execution_count": 7,
   "metadata": {},
   "outputs": [
    {
     "name": "stdout",
     "output_type": "stream",
     "text": [
      "Ingrese coordenada x del centro del circulo 1: 2\n",
      "Ingrese coordenada y del centro del circulo 1: 3\n",
      "Ingrese el radio del circulo 1: 5\n",
      "Ingrese coordenada x del centro del circulo 2: 6\n",
      "Ingrese coordenada y del centro del circulo 2: 7\n",
      "Ingrese el radio del circulo 2: 5\n",
      "Ingrese coordenada x del punto: 1\n",
      "Ingrese coordenada y del punto: 4\n",
      "El punto (a,b) está dentro del círculo 1\n",
      "El punto (a,b) NO esta dentro del circulo 2\n"
     ]
    }
   ],
   "source": [
    "#%% Taller 1, ejercicio 4\n",
    "import math\n",
    "#Intercción con el usuario, obtención de coordenadas\n",
    "x1=float(input('Ingrese coordenada x del centro del circulo 1: '))\n",
    "y1=float(input('Ingrese coordenada y del centro del circulo 1: '))\n",
    "r1=float(input('Ingrese el radio del circulo 1: '))\n",
    "x2=float(input('Ingrese coordenada x del centro del circulo 2: '))\n",
    "y2=float(input('Ingrese coordenada y del centro del circulo 2: '))\n",
    "r2=float(input('Ingrese el radio del circulo 2: '))\n",
    "a=float(input('Ingrese coordenada x del punto: '))\n",
    "b=float(input('Ingrese coordenada y del punto: '))\n",
    "#Obtención de terminos para calcular distancias\n",
    "dx1=(x1-a)**2\n",
    "dy1=(y1-b)**2\n",
    "dx2=(x2-a)**2\n",
    "dy2=(y2-b)**2\n",
    "#Obtención de distancias centro-punto(a,b)\n",
    "dista1=math.sqrt(dx1+dy1)\n",
    "dista2=math.sqrt(dx2+dy2)\n",
    "#Comparación de la magnitud de radios y distancias\n",
    "if dista1<=r1:\n",
    "    print('El punto (a,b) está dentro del círculo 1')\n",
    "else:\n",
    "    print ('El punto (a,b) NO esta dentro del círculo 1')\n",
    "    \n",
    "if dista2<=r2:\n",
    "    print('El punto (a,b) está dentro del círculo 2')\n",
    "else:\n",
    "    print ('El punto (a,b) NO esta dentro del circulo 2')\n",
    "    \n",
    "if dista1<=r1 and dista2<=r2:\n",
    "    print('El punto (a,b) esta dentro de ambos circulos')\n",
    "    \n",
    "if dista1>r1 and dista2>r2:\n",
    "    print('El punto (a,b) esta fuera de ambos circulos')"
   ]
  },
  {
   "cell_type": "code",
   "execution_count": 8,
   "metadata": {},
   "outputs": [
    {
     "name": "stdout",
     "output_type": "stream",
     "text": [
      "Ingrese una cadena alfa-numérica: 2\n",
      "Cantidad vocales mayusculas:  0\n",
      "Cantidad vocales con tilde:  0\n",
      "Cantidad de digitos:  1\n",
      "Cantidad de espacios: 0\n",
      "Cantidad de palabras clave: 0\n"
     ]
    }
   ],
   "source": [
    "#%% Taller 1, ejercicio 5\n",
    "import keyword\n",
    "#import time\n",
    "\n",
    "cad=str(input('Ingrese una cadena alfa-numérica: '))\n",
    "s=''\n",
    "#print(len(cad))\n",
    "for i in range(len(cad)):\n",
    "     s=s+cad[i]\n",
    "cad=s\n",
    "#print(cad)\n",
    "   \n",
    "voc=['A','E','I','O','U']\n",
    "voc_til=['Á','É','Í','Ó','Ú','á','é','í','ó','ú']\n",
    "pacla=keyword.kwlist\n",
    "#Contadores\n",
    "nvm=0\n",
    "nvt=0\n",
    "ndd=0\n",
    "ne=0\n",
    "npcla=0\n",
    "#Obtención de cantidad de vocales mayúsculas\n",
    "for i in range (len(voc)):\n",
    "     for j in range (len(cad)):\n",
    "          #print(cad[j],voc[i])\n",
    "          if cad[j]==voc[i]:\n",
    "               nvm=nvm+1\n",
    "print('Cantidad vocales mayusculas: ',nvm)\n",
    "#obtención de cantidad de vocales tildadas\n",
    "for i in range (len(voc_til)):\n",
    "     for j in range (len(cad)):\n",
    "          #print(cad[j],voc[i])\n",
    "          if cad[j]==voc_til[i]:\n",
    "               nvt=nvt+1\n",
    "print('Cantidad vocales con tilde: ',nvt)\n",
    "#Obtención de cantidad de digitos\n",
    "for i in range (len(cad)):\n",
    "     if cad[i].isdigit()==True:\n",
    "          ndd=ndd+1\n",
    "print('Cantidad de digitos: ',ndd)\n",
    "#Obtención de cantidad de espacios\n",
    "for i in range (len(cad)):\n",
    "     if cad[i].isspace()==True:\n",
    "          ne+=1\n",
    "print('Cantidad de espacios:',ne)\n",
    "#Obtención de cantidad palabras clave\n",
    "for i in range(len(pacla)):\n",
    "     for j in range (len(cad)-len(str(pacla[i]))+1):\n",
    "          #print(cad[j:j+len(str(pacla[i]))],str(pacla[i]),j,j+len(str(pacla[i])))\n",
    "          #time.sleep(.01)\n",
    "          if cad[j:j+len(str(pacla[i]))]==str(pacla[i]):\n",
    "               npcla+=1 \n",
    "               print(str(pacla[i]))\n",
    "print('Cantidad de palabras clave:',npcla)"
   ]
  },
  {
   "cell_type": "code",
   "execution_count": 10,
   "metadata": {},
   "outputs": [
    {
     "name": "stdout",
     "output_type": "stream",
     "text": [
      "Ingrese cadena de texto: Luis Miguel\n",
      "Las letras de la cadena organizadas y repetidas son: \n",
      "egiiLlMsuu\n"
     ]
    }
   ],
   "source": [
    "#%% Taller 1, ejercicio 6\n",
    "b=''\n",
    "cdt=list(input('Ingrese cadena de texto: '))\n",
    "#print(cdt)\n",
    "a=cdt\n",
    "#print(a)\n",
    "a.sort(key=str.lower) #Ordenación alfabética\n",
    "#print(a)\n",
    "#print(cdt)\n",
    "#Obtención de cadena ordenada y repetida\n",
    "for i in range(len(a)):\n",
    "    if a[i]!=' ':\n",
    "        b=b+a[i]\n",
    "print('Las letras de la cadena organizadas y repetidas son: ')\n",
    "print(b)"
   ]
  },
  {
   "cell_type": "code",
   "execution_count": 17,
   "metadata": {},
   "outputs": [
    {
     "name": "stdout",
     "output_type": "stream",
     "text": [
      "Ingrese números de forma ascendente separados por comas: 2,3,4,5,6\n",
      "Lista ordenada\n",
      "Ingrese un número --> 10\n",
      "['2', '3', '4', '5', '6', '10']\n"
     ]
    }
   ],
   "source": [
    "#%% Taller 1, ejercicio 7\n",
    "\n",
    "f=1 #0: ordenado, 1:no ordenado\n",
    "#Garantía de que números sean ordenados ascendentemente\n",
    "while f==1:   \n",
    "\n",
    "    L=input('Ingrese números de forma ascendente separados por comas: ')\n",
    "    L=L.split(',')\n",
    "    \n",
    "    for i in range(len(L)):\n",
    "        if i+2 <=len(L):# i<= len(L)-2. porque -1 para no llegar al ultimo, \\\n",
    "            #-1 porque la longitud es 1 mayor que el último indice\n",
    "            if int(L[i])>int(L[i+1]) :\n",
    "                f=1\n",
    "                print(L[i],L[i+1],'Lista desordenada')\n",
    "                break\n",
    "            else:\n",
    "                f=0\n",
    "print('Lista ordenada')\n",
    "\n",
    "k=input('Ingrese un número --> ')\n",
    "i=0\n",
    "#Ingreso de número en pocisión adecuada\n",
    "if int(k)<int(L[len(L)-1]):\n",
    "    while f==1:\n",
    "            if int(k)>int(L[i]) and int(k)<int(L[i+1]):\n",
    "                temp=L[0:i+1]\n",
    "                temp.extend([k])\n",
    "                print(len(L[i+1:len(L)]))\n",
    "                for j in range(len(L[i+1:len(L)])):\n",
    "                    print(i,j,len(L))\n",
    "                    temp.extend([L[i+1+j]])# i+1 es la posición en la que iba en L\n",
    "                f=0\n",
    "            i=i+1\n",
    "    print(temp)   \n",
    "else:\n",
    "    L.extend([k])\n",
    "    print(L)\n",
    "     "
   ]
  },
  {
   "cell_type": "code",
   "execution_count": 5,
   "metadata": {},
   "outputs": [
    {
     "name": "stdout",
     "output_type": "stream",
     "text": [
      "Ingrese una lista de números separados por comas: 2,4,5,7\n",
      "El segundo máximo es 5\n"
     ]
    }
   ],
   "source": [
    "#%% Taller 1, ejercicio 8\n",
    "L=input('Ingrese una lista de números separados por comas: ')\n",
    "L=L.split(',')#Partición \n",
    "\n",
    "#Determinando el maximo\n",
    "\n",
    "Maxi=L[0] #Supuesto\n",
    "#Obtención del máximo\n",
    "for i in range(len(L)):\n",
    "    if int(L[i])>int(Maxi):\n",
    "        Maxi=L[i]\n",
    "#Reemplazo del máximo por un \"-inf\"\n",
    "for i in range(len(L)):\n",
    "    if int(L[i])==int(Maxi):\n",
    "        L[i]=-1*10**33\n",
    "Maxi=L[0]\n",
    "#Obtención del segundo máximo\n",
    "for i in range(len(L)):\n",
    "    if int(L[i])>int(Maxi):\n",
    "        Maxi=L[i]\n",
    "\n",
    "print('El segundo máximo es',Maxi ) "
   ]
  },
  {
   "cell_type": "code",
   "execution_count": 1,
   "metadata": {},
   "outputs": [
    {
     "name": "stdout",
     "output_type": "stream",
     "text": [
      "\n",
      "Sucesión\n",
      "Escriba el valor de U(0) ---->7\n",
      "Escriba el número de terminos-->20\n",
      "[7, 22, 11.0, 34.0, 17.0, 52.0, 26.0, 13.0, 40.0, 20.0, 10.0, 5.0, 16.0, 8.0, 4.0, 2.0, 1.0, 4.0, 2.0, 1.0]\n"
     ]
    }
   ],
   "source": [
    "#%% Taller 1, ejercicio 9\n",
    "print('\\nSucesión')\n",
    "u_o=int(input('Escriba el valor de U(0) ---->'))\n",
    "Nter=int(input('Escriba el número de terminos-->'))\n",
    "\n",
    "suc=[u_o]\n",
    "\n",
    "for i in range(Nter-1):\n",
    "    #Condición par\n",
    "    if u_o%2==0:\n",
    "        u_n=u_o/2\n",
    "        u_o=u_n\n",
    "        suc.extend([u_n])\n",
    "    else:#Condición impar\n",
    "        u_n=3*u_o+1\n",
    "        u_o=u_n\n",
    "        suc.extend([u_n])\n",
    "\n",
    "print(suc)"
   ]
  },
  {
   "cell_type": "code",
   "execution_count": 19,
   "metadata": {},
   "outputs": [
    {
     "name": "stdout",
     "output_type": "stream",
     "text": [
      "[27, 26, 85, 51, 63, 45, 40, 63, 59, 99, 95, 12, 88, 75, 58, 951, 8, 78, 62, 28, 32, 49, 4, 73]\n"
     ]
    }
   ],
   "source": [
    "#%% Taller 1, ejercicio 10\n",
    "M=[[59, 99, 95, 12, 88, 75],\n",
    "   [63, 32, 49,  4, 73, 58],\n",
    "   [40, 28, 62, 78,  8, 951],\n",
    "   [45, 63, 51, 85, 26, 27]]\n",
    "nf=len(M)\n",
    "nc=len(M[0])\n",
    "flag=1\n",
    "Rizq=nc\n",
    "Rarr=nf-1\n",
    "Rder=nc-1\n",
    "Rab=nf-2\n",
    "V=[]\n",
    "ini_c=nc-1\n",
    "ini_f=nf-1\n",
    "fila=ini_f\n",
    "k=1\n",
    "while flag==1:\n",
    "    for i in range(Rizq):#Recorre y guarda hacia izq\n",
    "        col=ini_c-i\n",
    "        V.extend([M[fila][col]])\n",
    "    for i in range(Rarr):#Recorre y guarda hacia arriba\n",
    "         fila=fila-1\n",
    "         V.extend([M[fila][col]])\n",
    "        \n",
    "    for i in range(Rder):#Recorre y guarda hacia der\n",
    "         col=i+k\n",
    "         V.extend([M[fila][col]])\n",
    "    for i in range(Rab):#Recorre y guarda hacia abajo\n",
    "         fila=i+k\n",
    "         V.extend([M[fila][col]])\n",
    "    #Variación de intervalos de movimiento    \n",
    "    Rizq=Rizq-2\n",
    "    Rarr=Rarr-2\n",
    "    Rder=Rder-2\n",
    "    Rab=Rab-2\n",
    "    ini_c=col-1\n",
    "    ini_f=fila\n",
    "    k=k+1\n",
    "    #Condición de salida\n",
    "    if Rizq <0 or Rarr <0  or Rder<0  or Rab<0 :\n",
    "        flag=0\n",
    "print(V)  "
   ]
  },
  {
   "cell_type": "code",
   "execution_count": 11,
   "metadata": {},
   "outputs": [
    {
     "name": "stdout",
     "output_type": "stream",
     "text": [
      "Indique ANCHO del rectángulo: 6\n",
      "Indique ALTO del rectángulo: 7\n",
      "Indique el CARACTER a utilizar: x\n",
      "x x x x x x \n",
      "x x x x x x \n",
      "x x x x x x \n",
      "x x x x x x \n",
      "x x x x x x \n",
      "x x x x x x \n",
      "x x x x x x \n"
     ]
    }
   ],
   "source": [
    "#%% Taller 1, ejercicio 11\n",
    "def rectan (ancho,alto,letra):\n",
    "\n",
    "    for j in range(alto):\n",
    "        g=letra+' '\n",
    "        print(g*ancho)\n",
    "\n",
    "a= int(input(\"Indique ANCHO del rectángulo: \"))\n",
    "b= int(input(\"Indique ALTO del rectángulo: \"))\n",
    "k = str(input(\"Indique el CARACTER a utilizar: \"))\n",
    "rectan(a,b,k)"
   ]
  },
  {
   "cell_type": "code",
   "execution_count": 12,
   "metadata": {},
   "outputs": [
    {
     "name": "stdout",
     "output_type": "stream",
     "text": [
      "Anchura del triángulo: 3\n",
      "* \n",
      "* * \n",
      "* * * \n",
      "* * \n",
      "* \n"
     ]
    }
   ],
   "source": [
    "#%% Taller 1, ejercicio 12\n",
    "import numpy as np\n",
    "\n",
    "def trian(ancho):\n",
    "    k='* '\n",
    "    for i in range(ancho):\n",
    "        h=i+1\n",
    "        print(k*h)\n",
    "    kh=np.linspace(1,ancho-1,ancho-1) #inicial,final, cantidad de datos  \n",
    "    for i in kh:\n",
    "        g=ancho-int(i)\n",
    "        print (k*g)\n",
    "\n",
    "a= int(input(\"Anchura del triángulo: \"))\n",
    "trian(a)"
   ]
  },
  {
   "cell_type": "code",
   "execution_count": 13,
   "metadata": {},
   "outputs": [
    {
     "name": "stdout",
     "output_type": "stream",
     "text": [
      "\n",
      "Contador de años bisiestos\n",
      "Ingrese un año: 2020\n",
      "Ingrese otro año posterior a 2020: 2040\n",
      "De 2020 a 2040 hay 20 años, 6 de ellos bisiestos.\n"
     ]
    }
   ],
   "source": [
    "#%% Taller 1, ejercicio 13\n",
    "def es_bisiesto(t):\n",
    "    return t % 400 == 0 or (t % 100 != 0 and t % 4 == 0)\n",
    "\n",
    "print(\"\\nContador de años bisiestos\")\n",
    "a_ini = int(input(\"Ingrese un año: \"))\n",
    "print(\"Ingrese otro año posterior a\", str(a_ini) + \": \", end=\"\")\n",
    "a_fin = int(input())\n",
    "while a_fin < a_ini:\n",
    "    print(a_fin, \"no es mayor que\", str(a_ini) + \". Inténtelo de nuevo: \",\n",
    "          end=\"\")\n",
    "    final = int(input())\n",
    "\n",
    "suma = 0\n",
    "#obtención de cantidad de años bisiestos\n",
    "for i in range(a_ini, a_fin+1):\n",
    "    \n",
    "    if es_bisiesto(i):\n",
    "        \n",
    "        suma+= 1\n",
    "\n",
    "print(\"De\", a_ini, \"a\", a_fin, \"hay\", a_fin - a_ini, \"años,\",\n",
    "      suma, \"de ellos bisiestos.\")"
   ]
  },
  {
   "cell_type": "code",
   "execution_count": 14,
   "metadata": {},
   "outputs": [
    {
     "name": "stdout",
     "output_type": "stream",
     "text": [
      "\n",
      "Ingrese la RESPUESTA de sumar 21  y  11  : --->  \n",
      "32\n",
      "\n",
      "CORRECTO !!!\n",
      "\n",
      "Ingrese la RESPUESTA de sumar 80  y  55  : --->  \n",
      "135\n",
      "\n",
      "CORRECTO !!!\n",
      "\n",
      "Ingrese la RESPUESTA de sumar 99  y  52  : --->  \n",
      "151\n",
      "\n",
      "CORRECTO !!!\n",
      "\n",
      "Ingrese la RESPUESTA de sumar 52  y  23  : --->  \n",
      "75\n",
      "\n",
      "CORRECTO !!!\n",
      "\n",
      "Ingrese la RESPUESTA de sumar 73  y  63  : --->  \n",
      "3\n",
      "\n",
      "INCORECTO !!!\n",
      "\n",
      "Ingrese la RESPUESTA de sumar 67  y  66  : --->  \n",
      "9\n",
      "\n",
      "INCORECTO !!!\n",
      "\n",
      "Ingrese la RESPUESTA de sumar 8  y  44  : --->  \n",
      "52\n",
      "\n",
      "CORRECTO !!!\n",
      "\n",
      "Gracias por participar, :)\n"
     ]
    }
   ],
   "source": [
    "#%% Taller 1, ejercicio 14\n",
    "import random as rd\n",
    "\n",
    "def sumas5():\n",
    "    a=0\n",
    "    while a<5:\n",
    "        num1=rd.randint(0,100)\n",
    "        num2=rd.randint(0,100)\n",
    "        print('\\nIngrese la RESPUESTA de sumar',num1, ' y ',num2,' : --->  ')\n",
    "        R=int(input(''))\n",
    "        #Comprobación de respuesta dada por usuario\n",
    "        if R==num1+num2:\n",
    "            print('\\nCORRECTO !!!')\n",
    "            a+=1\n",
    "        else:\n",
    "            print('\\nINCORECTO !!!')\n",
    "    if a==5:\n",
    "        print ('\\nGracias por participar, :)')\n",
    "\n",
    "sumas5()"
   ]
  },
  {
   "cell_type": "code",
   "execution_count": 2,
   "metadata": {},
   "outputs": [
    {
     "name": "stdout",
     "output_type": "stream",
     "text": [
      "El juego consiste en adividar una lista de números.\n",
      "Para terminar el juego ingrese SALIR\n",
      "Ingrese longitud de la lista --> 1\n",
      "Ingrese su opción, sin espacios ni signos puntuación--> 1\n",
      "Acertó  0  digitos\n",
      "Ingrese su opción, sin espacios ni signos puntuación--> 2\n",
      "Acertó  0  digitos\n",
      "Ingrese su opción, sin espacios ni signos puntuación--> 3\n",
      "Acertó  0  digitos\n",
      "Ingrese su opción, sin espacios ni signos puntuación--> 4\n",
      "Acertó  0  digitos\n",
      "Ingrese su opción, sin espacios ni signos puntuación--> 5\n",
      "Ganó, acertó todos los digitos y posiciones\n"
     ]
    }
   ],
   "source": [
    "#%% Taller 1, ejercicio 15\n",
    "def Master_mind():\n",
    "    import random as rd\n",
    "    print('El juego consiste en adividar una lista de números.')\n",
    "    print('Para terminar el juego ingrese SALIR')\n",
    "    lon=input('Ingrese longitud de la lista --> ')\n",
    "    L=[]\n",
    "    for i in range(int(lon)):#Genera la cadena a encontrar\n",
    "         L.extend([rd.randint(0,9)])\n",
    "    f=1#Permite entrar al ciclo\n",
    "    #print(L)\n",
    "    while f==1:\n",
    "         na=0\n",
    "         j=input('Ingrese su opción, sin espacios ni signos puntuación--> ')\n",
    "         if j=='SALIR':#Condición de salida forzada\n",
    "              print('Decidió salir, la respuesta era: --> ',L)\n",
    "              f=0\n",
    "         else:\n",
    "              j=list(j)\n",
    "              for i in range(len(j)):#Comparación\n",
    "                   if int(L[i])==int(j[i]):\n",
    "                      na=na+1\n",
    "              if na==len(j):#Condición para ganar\n",
    "                   print('Ganó, acertó todos los digitos y posiciones')\n",
    "                   f=0\n",
    "              else:\n",
    "                   print('Acertó ',na,' digitos')\n",
    "                   \n",
    "Master_mind()"
   ]
  },
  {
   "cell_type": "markdown",
   "metadata": {},
   "source": [
    "###### "
   ]
  }
 ],
 "metadata": {
  "kernelspec": {
   "display_name": "Python 3",
   "language": "python",
   "name": "python3"
  },
  "language_info": {
   "codemirror_mode": {
    "name": "ipython",
    "version": 3
   },
   "file_extension": ".py",
   "mimetype": "text/x-python",
   "name": "python",
   "nbconvert_exporter": "python",
   "pygments_lexer": "ipython3",
   "version": "3.6.7"
  }
 },
 "nbformat": 4,
 "nbformat_minor": 2
}
